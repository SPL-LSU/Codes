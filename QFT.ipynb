{
 "cells": [
  {
   "cell_type": "code",
   "execution_count": null,
   "metadata": {},
   "outputs": [],
   "source": [
    "#Roy Pace\n",
    "#1/27/2020\n",
    "#This code produces a Quantum Fourier Transform for m number of qubits"
   ]
  },
  {
   "cell_type": "code",
   "execution_count": null,
   "metadata": {},
   "outputs": [],
   "source": [
    "#Papers Looked At:\n",
    "#https://qiskit.org/textbook/ch-algorithms/quantum-fourier-transform.html#example1\n",
    "#https://arxiv.org/pdf/1903.04359.pdf\n",
    "#https://quantum-computing.ibm.com/support\n",
    "#https://qiskit.org/documentation/api/qiskit.extensions.standard.Cu1Gate.html?highlight=cu1\n",
    "#http://pages.cs.wisc.edu/~dieter/Papers/vangael-thesis.pdf\n",
    "#https://arxiv.org/pdf/1804.03719.pdf"
   ]
  },
  {
   "cell_type": "code",
   "execution_count": null,
   "metadata": {},
   "outputs": [],
   "source": [
    "from qiskit import QuantumCircuit, QuantumRegister, ClassicalRegister\n",
    "import matplotlib.pyplot as plt\n",
    "import math as math\n",
    "%matplotlib inline"
   ]
  },
  {
   "cell_type": "code",
   "execution_count": null,
   "metadata": {},
   "outputs": [],
   "source": [
    "#Create the Circuit\n",
    "m=5\n",
    "q=QuantumRegister(m)\n",
    "c=ClassicalRegister(m)\n",
    "qc= QuantumCircuit(q,c)"
   ]
  },
  {
   "cell_type": "code",
   "execution_count": null,
   "metadata": {},
   "outputs": [],
   "source": [
    "#Create Initial States\n",
    "for i in range(0,m):\n",
    "    k=1 #Just a dummy command so that an error message isn't thrown\n"
   ]
  },
  {
   "cell_type": "code",
   "execution_count": null,
   "metadata": {},
   "outputs": [],
   "source": [
    "for i in range(0,m):\n",
    "    qc.h(q[i])\n",
    "    for j in range(i+1,m):\n",
    "            qc.cu1(math.pi/(2**(j)),q[j],q[i])\n",
    "for i in range(0,int(m/2)):\n",
    "    qc.swap(i,m-i-1)\n",
    "qc.measure(q,c)\n",
    "qc.draw()"
   ]
  },
  {
   "cell_type": "code",
   "execution_count": null,
   "metadata": {},
   "outputs": [],
   "source": [
    "#Execute the Circuit\n",
    "from qiskit.circuit import Gate\n",
    "from qiskit import execute, Aer\n",
    "\n",
    "shots = 20000\n",
    "job = execute(qc, Aer.get_backend('qasm_simulator'), shots=shots)\n",
    "counts = [job.result().get_counts(i) for i in range(len(job.result().results))]\n",
    "from qiskit.visualization import plot_histogram\n",
    "plot_histogram(counts)"
   ]
  },
  {
   "cell_type": "code",
   "execution_count": null,
   "metadata": {},
   "outputs": [],
   "source": [
    "backend = Aer.get_backend('statevector_simulator')\n",
    "result = execute(qc, backend).result()\n",
    "result.get_statevector(qc)"
   ]
  }
 ],
 "metadata": {
  "kernelspec": {
   "display_name": "Python 3",
   "language": "python",
   "name": "python3"
  },
  "language_info": {
   "codemirror_mode": {
    "name": "ipython",
    "version": 3
   },
   "file_extension": ".py",
   "mimetype": "text/x-python",
   "name": "python",
   "nbconvert_exporter": "python",
   "pygments_lexer": "ipython3",
   "version": "3.7.4"
  }
 },
 "nbformat": 4,
 "nbformat_minor": 2
}
