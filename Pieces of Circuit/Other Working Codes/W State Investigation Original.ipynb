{
 "cells": [
  {
   "cell_type": "code",
   "execution_count": 1,
   "metadata": {},
   "outputs": [],
   "source": [
    "get_ipython().run_line_magic('matplotlib', 'inline')\n",
    "# Importing standard Qiskit libraries and configuring account\n",
    "from qiskit import *\n",
    "from qiskit.compiler import transpile, assemble\n",
    "from qiskit.tools.jupyter import *\n",
    "from qiskit.visualization import *\n",
    "import numpy as np"
   ]
  },
  {
   "cell_type": "code",
   "execution_count": 2,
   "metadata": {},
   "outputs": [
    {
     "name": "stderr",
     "output_type": "stream",
     "text": [
      "Credentials already present. Set overwrite=True to overwrite.\n"
     ]
    },
    {
     "ename": "AuthenticationLicenseError",
     "evalue": "'License required. You need to accept the License.'",
     "output_type": "error",
     "traceback": [
      "\u001b[1;31m---------------------------------------------------------------------------\u001b[0m",
      "\u001b[1;31mHTTPError\u001b[0m                                 Traceback (most recent call last)",
      "\u001b[1;32m~\\Anaconda3\\lib\\site-packages\\qiskit\\providers\\ibmq\\api\\session.py\u001b[0m in \u001b[0;36mrequest\u001b[1;34m(self, method, url, bare, **kwargs)\u001b[0m\n\u001b[0;32m    206\u001b[0m             \u001b[0mresponse\u001b[0m \u001b[1;33m=\u001b[0m \u001b[0msuper\u001b[0m\u001b[1;33m(\u001b[0m\u001b[1;33m)\u001b[0m\u001b[1;33m.\u001b[0m\u001b[0mrequest\u001b[0m\u001b[1;33m(\u001b[0m\u001b[0mmethod\u001b[0m\u001b[1;33m,\u001b[0m \u001b[0mfinal_url\u001b[0m\u001b[1;33m,\u001b[0m \u001b[1;33m**\u001b[0m\u001b[0mkwargs\u001b[0m\u001b[1;33m)\u001b[0m\u001b[1;33m\u001b[0m\u001b[0m\n\u001b[1;32m--> 207\u001b[1;33m             \u001b[0mresponse\u001b[0m\u001b[1;33m.\u001b[0m\u001b[0mraise_for_status\u001b[0m\u001b[1;33m(\u001b[0m\u001b[1;33m)\u001b[0m\u001b[1;33m\u001b[0m\u001b[0m\n\u001b[0m\u001b[0;32m    208\u001b[0m         \u001b[1;32mexcept\u001b[0m \u001b[0mRequestException\u001b[0m \u001b[1;32mas\u001b[0m \u001b[0mex\u001b[0m\u001b[1;33m:\u001b[0m\u001b[1;33m\u001b[0m\u001b[0m\n",
      "\u001b[1;32m~\\Anaconda3\\lib\\site-packages\\requests\\models.py\u001b[0m in \u001b[0;36mraise_for_status\u001b[1;34m(self)\u001b[0m\n\u001b[0;32m    938\u001b[0m         \u001b[1;32mif\u001b[0m \u001b[0mhttp_error_msg\u001b[0m\u001b[1;33m:\u001b[0m\u001b[1;33m\u001b[0m\u001b[0m\n\u001b[1;32m--> 939\u001b[1;33m             \u001b[1;32mraise\u001b[0m \u001b[0mHTTPError\u001b[0m\u001b[1;33m(\u001b[0m\u001b[0mhttp_error_msg\u001b[0m\u001b[1;33m,\u001b[0m \u001b[0mresponse\u001b[0m\u001b[1;33m=\u001b[0m\u001b[0mself\u001b[0m\u001b[1;33m)\u001b[0m\u001b[1;33m\u001b[0m\u001b[0m\n\u001b[0m\u001b[0;32m    940\u001b[0m \u001b[1;33m\u001b[0m\u001b[0m\n",
      "\u001b[1;31mHTTPError\u001b[0m: 401 Client Error: Unauthorized for url: https://auth.quantum-computing.ibm.com/api/users/loginWithToken",
      "\nThe above exception was the direct cause of the following exception:\n",
      "\u001b[1;31mRequestsApiError\u001b[0m                          Traceback (most recent call last)",
      "\u001b[1;32m~\\Anaconda3\\lib\\site-packages\\qiskit\\providers\\ibmq\\api\\clients\\auth.py\u001b[0m in \u001b[0;36m_request_access_token\u001b[1;34m(self)\u001b[0m\n\u001b[0;32m     75\u001b[0m         \u001b[1;32mtry\u001b[0m\u001b[1;33m:\u001b[0m\u001b[1;33m\u001b[0m\u001b[0m\n\u001b[1;32m---> 76\u001b[1;33m             \u001b[0mresponse\u001b[0m \u001b[1;33m=\u001b[0m \u001b[0mself\u001b[0m\u001b[1;33m.\u001b[0m\u001b[0mclient_auth\u001b[0m\u001b[1;33m.\u001b[0m\u001b[0mlogin\u001b[0m\u001b[1;33m(\u001b[0m\u001b[0mself\u001b[0m\u001b[1;33m.\u001b[0m\u001b[0mapi_token\u001b[0m\u001b[1;33m)\u001b[0m\u001b[1;33m\u001b[0m\u001b[0m\n\u001b[0m\u001b[0;32m     77\u001b[0m             \u001b[1;32mreturn\u001b[0m \u001b[0mresponse\u001b[0m\u001b[1;33m[\u001b[0m\u001b[1;34m'id'\u001b[0m\u001b[1;33m]\u001b[0m\u001b[1;33m\u001b[0m\u001b[0m\n",
      "\u001b[1;32m~\\Anaconda3\\lib\\site-packages\\qiskit\\providers\\ibmq\\api\\rest\\auth.py\u001b[0m in \u001b[0;36mlogin\u001b[1;34m(self, api_token)\u001b[0m\n\u001b[0;32m     38\u001b[0m         \u001b[0murl\u001b[0m \u001b[1;33m=\u001b[0m \u001b[0mself\u001b[0m\u001b[1;33m.\u001b[0m\u001b[0mget_url\u001b[0m\u001b[1;33m(\u001b[0m\u001b[1;34m'login'\u001b[0m\u001b[1;33m)\u001b[0m\u001b[1;33m\u001b[0m\u001b[0m\n\u001b[1;32m---> 39\u001b[1;33m         \u001b[1;32mreturn\u001b[0m \u001b[0mself\u001b[0m\u001b[1;33m.\u001b[0m\u001b[0msession\u001b[0m\u001b[1;33m.\u001b[0m\u001b[0mpost\u001b[0m\u001b[1;33m(\u001b[0m\u001b[0murl\u001b[0m\u001b[1;33m,\u001b[0m \u001b[0mjson\u001b[0m\u001b[1;33m=\u001b[0m\u001b[1;33m{\u001b[0m\u001b[1;34m'apiToken'\u001b[0m\u001b[1;33m:\u001b[0m \u001b[0mapi_token\u001b[0m\u001b[1;33m}\u001b[0m\u001b[1;33m)\u001b[0m\u001b[1;33m.\u001b[0m\u001b[0mjson\u001b[0m\u001b[1;33m(\u001b[0m\u001b[1;33m)\u001b[0m\u001b[1;33m\u001b[0m\u001b[0m\n\u001b[0m\u001b[0;32m     40\u001b[0m \u001b[1;33m\u001b[0m\u001b[0m\n",
      "\u001b[1;32m~\\Anaconda3\\lib\\site-packages\\requests\\sessions.py\u001b[0m in \u001b[0;36mpost\u001b[1;34m(self, url, data, json, **kwargs)\u001b[0m\n\u001b[0;32m    558\u001b[0m \u001b[1;33m\u001b[0m\u001b[0m\n\u001b[1;32m--> 559\u001b[1;33m         \u001b[1;32mreturn\u001b[0m \u001b[0mself\u001b[0m\u001b[1;33m.\u001b[0m\u001b[0mrequest\u001b[0m\u001b[1;33m(\u001b[0m\u001b[1;34m'POST'\u001b[0m\u001b[1;33m,\u001b[0m \u001b[0murl\u001b[0m\u001b[1;33m,\u001b[0m \u001b[0mdata\u001b[0m\u001b[1;33m=\u001b[0m\u001b[0mdata\u001b[0m\u001b[1;33m,\u001b[0m \u001b[0mjson\u001b[0m\u001b[1;33m=\u001b[0m\u001b[0mjson\u001b[0m\u001b[1;33m,\u001b[0m \u001b[1;33m**\u001b[0m\u001b[0mkwargs\u001b[0m\u001b[1;33m)\u001b[0m\u001b[1;33m\u001b[0m\u001b[0m\n\u001b[0m\u001b[0;32m    560\u001b[0m \u001b[1;33m\u001b[0m\u001b[0m\n",
      "\u001b[1;32m~\\Anaconda3\\lib\\site-packages\\qiskit\\providers\\ibmq\\api\\session.py\u001b[0m in \u001b[0;36mrequest\u001b[1;34m(self, method, url, bare, **kwargs)\u001b[0m\n\u001b[0;32m    225\u001b[0m \u001b[1;33m\u001b[0m\u001b[0m\n\u001b[1;32m--> 226\u001b[1;33m             \u001b[1;32mraise\u001b[0m \u001b[0mRequestsApiError\u001b[0m\u001b[1;33m(\u001b[0m\u001b[0mmessage\u001b[0m\u001b[1;33m)\u001b[0m \u001b[1;32mfrom\u001b[0m \u001b[0mex\u001b[0m\u001b[1;33m\u001b[0m\u001b[0m\n\u001b[0m\u001b[0;32m    227\u001b[0m \u001b[1;33m\u001b[0m\u001b[0m\n",
      "\u001b[1;31mRequestsApiError\u001b[0m: '401 Client Error: Unauthorized for url: https://auth.quantum-computing.ibm.com/api/users/loginWithToken. License required. You need to accept the License., Error code: 3444.'",
      "\nDuring handling of the above exception, another exception occurred:\n",
      "\u001b[1;31mAuthenticationLicenseError\u001b[0m                Traceback (most recent call last)",
      "\u001b[1;32m<ipython-input-2-0a382597b953>\u001b[0m in \u001b[0;36m<module>\u001b[1;34m()\u001b[0m\n\u001b[0;32m      6\u001b[0m \u001b[0mTOKEN\u001b[0m \u001b[1;33m=\u001b[0m\u001b[1;34m'32df0ea3fc138c8c6122a5e8def5d1a77b954f7d8d463265a1c788100803c5be93d42bfca4b7ce270497c7df1b6004e46493e16e0cf916563f72d06671cc837b'\u001b[0m\u001b[1;33m\u001b[0m\u001b[0m\n\u001b[0;32m      7\u001b[0m \u001b[0mIBMQ\u001b[0m\u001b[1;33m.\u001b[0m\u001b[0msave_account\u001b[0m\u001b[1;33m(\u001b[0m\u001b[0mTOKEN\u001b[0m\u001b[1;33m)\u001b[0m\u001b[1;33m\u001b[0m\u001b[0m\n\u001b[1;32m----> 8\u001b[1;33m \u001b[0mIBMQ\u001b[0m\u001b[1;33m.\u001b[0m\u001b[0mload_account\u001b[0m\u001b[1;33m(\u001b[0m\u001b[1;33m)\u001b[0m \u001b[1;31m# Load account from disk\u001b[0m\u001b[1;33m\u001b[0m\u001b[0m\n\u001b[0m\u001b[0;32m      9\u001b[0m \u001b[0mproviders\u001b[0m \u001b[1;33m=\u001b[0m \u001b[0mIBMQ\u001b[0m\u001b[1;33m.\u001b[0m\u001b[0mproviders\u001b[0m\u001b[1;33m(\u001b[0m\u001b[1;33m)\u001b[0m\u001b[1;33m\u001b[0m\u001b[0m\n\u001b[0;32m     10\u001b[0m \u001b[0mprovider\u001b[0m \u001b[1;33m=\u001b[0m \u001b[0mIBMQ\u001b[0m\u001b[1;33m.\u001b[0m\u001b[0mget_provider\u001b[0m\u001b[1;33m(\u001b[0m\u001b[0mhub\u001b[0m \u001b[1;33m=\u001b[0m\u001b[1;34m'ibm-q'\u001b[0m\u001b[1;33m)\u001b[0m\u001b[1;33m\u001b[0m\u001b[0m\n",
      "\u001b[1;32m~\\Anaconda3\\lib\\site-packages\\qiskit\\providers\\ibmq\\ibmqfactory.py\u001b[0m in \u001b[0;36mload_account\u001b[1;34m(self)\u001b[0m\n\u001b[0;32m    154\u001b[0m             \u001b[0mself\u001b[0m\u001b[1;33m.\u001b[0m\u001b[0mdisable_account\u001b[0m\u001b[1;33m(\u001b[0m\u001b[1;33m)\u001b[0m\u001b[1;33m\u001b[0m\u001b[0m\n\u001b[0;32m    155\u001b[0m \u001b[1;33m\u001b[0m\u001b[0m\n\u001b[1;32m--> 156\u001b[1;33m         \u001b[0mself\u001b[0m\u001b[1;33m.\u001b[0m\u001b[0m_initialize_providers\u001b[0m\u001b[1;33m(\u001b[0m\u001b[0mcredentials\u001b[0m\u001b[1;33m)\u001b[0m\u001b[1;33m\u001b[0m\u001b[0m\n\u001b[0m\u001b[0;32m    157\u001b[0m \u001b[1;33m\u001b[0m\u001b[0m\n\u001b[0;32m    158\u001b[0m         \u001b[1;31m# Prevent edge case where no hubs are available.\u001b[0m\u001b[1;33m\u001b[0m\u001b[1;33m\u001b[0m\u001b[0m\n",
      "\u001b[1;32m~\\Anaconda3\\lib\\site-packages\\qiskit\\providers\\ibmq\\ibmqfactory.py\u001b[0m in \u001b[0;36m_initialize_providers\u001b[1;34m(self, credentials)\u001b[0m\n\u001b[0;32m    362\u001b[0m         auth_client = AuthClient(credentials.token,\n\u001b[0;32m    363\u001b[0m                                  \u001b[0mcredentials\u001b[0m\u001b[1;33m.\u001b[0m\u001b[0mbase_url\u001b[0m\u001b[1;33m,\u001b[0m\u001b[1;33m\u001b[0m\u001b[0m\n\u001b[1;32m--> 364\u001b[1;33m                                  **credentials.connection_parameters())\n\u001b[0m\u001b[0;32m    365\u001b[0m         \u001b[0mservice_urls\u001b[0m \u001b[1;33m=\u001b[0m \u001b[0mauth_client\u001b[0m\u001b[1;33m.\u001b[0m\u001b[0mcurrent_service_urls\u001b[0m\u001b[1;33m(\u001b[0m\u001b[1;33m)\u001b[0m\u001b[1;33m\u001b[0m\u001b[0m\n\u001b[0;32m    366\u001b[0m         \u001b[0muser_hubs\u001b[0m \u001b[1;33m=\u001b[0m \u001b[0mauth_client\u001b[0m\u001b[1;33m.\u001b[0m\u001b[0muser_hubs\u001b[0m\u001b[1;33m(\u001b[0m\u001b[1;33m)\u001b[0m\u001b[1;33m\u001b[0m\u001b[0m\n",
      "\u001b[1;32m~\\Anaconda3\\lib\\site-packages\\qiskit\\providers\\ibmq\\api\\clients\\auth.py\u001b[0m in \u001b[0;36m__init__\u001b[1;34m(self, api_token, auth_url, **request_kwargs)\u001b[0m\n\u001b[0;32m     40\u001b[0m \u001b[1;33m\u001b[0m\u001b[0m\n\u001b[0;32m     41\u001b[0m         \u001b[0mself\u001b[0m\u001b[1;33m.\u001b[0m\u001b[0mclient_auth\u001b[0m \u001b[1;33m=\u001b[0m \u001b[0mAuth\u001b[0m\u001b[1;33m(\u001b[0m\u001b[0mRetrySession\u001b[0m\u001b[1;33m(\u001b[0m\u001b[0mauth_url\u001b[0m\u001b[1;33m,\u001b[0m \u001b[1;33m**\u001b[0m\u001b[0mrequest_kwargs\u001b[0m\u001b[1;33m)\u001b[0m\u001b[1;33m)\u001b[0m\u001b[1;33m\u001b[0m\u001b[0m\n\u001b[1;32m---> 42\u001b[1;33m         \u001b[0mself\u001b[0m\u001b[1;33m.\u001b[0m\u001b[0mclient_api\u001b[0m \u001b[1;33m=\u001b[0m \u001b[0mself\u001b[0m\u001b[1;33m.\u001b[0m\u001b[0m_init_service_clients\u001b[0m\u001b[1;33m(\u001b[0m\u001b[1;33m**\u001b[0m\u001b[0mrequest_kwargs\u001b[0m\u001b[1;33m)\u001b[0m\u001b[1;33m\u001b[0m\u001b[0m\n\u001b[0m\u001b[0;32m     43\u001b[0m \u001b[1;33m\u001b[0m\u001b[0m\n\u001b[0;32m     44\u001b[0m     \u001b[1;32mdef\u001b[0m \u001b[0m_init_service_clients\u001b[0m\u001b[1;33m(\u001b[0m\u001b[0mself\u001b[0m\u001b[1;33m,\u001b[0m \u001b[1;33m**\u001b[0m\u001b[0mrequest_kwargs\u001b[0m\u001b[1;33m:\u001b[0m \u001b[0mAny\u001b[0m\u001b[1;33m)\u001b[0m \u001b[1;33m->\u001b[0m \u001b[0mApi\u001b[0m\u001b[1;33m:\u001b[0m\u001b[1;33m\u001b[0m\u001b[0m\n",
      "\u001b[1;32m~\\Anaconda3\\lib\\site-packages\\qiskit\\providers\\ibmq\\api\\clients\\auth.py\u001b[0m in \u001b[0;36m_init_service_clients\u001b[1;34m(self, **request_kwargs)\u001b[0m\n\u001b[0;32m     52\u001b[0m         \"\"\"\n\u001b[0;32m     53\u001b[0m         \u001b[1;31m# Request an access token.\u001b[0m\u001b[1;33m\u001b[0m\u001b[1;33m\u001b[0m\u001b[0m\n\u001b[1;32m---> 54\u001b[1;33m         \u001b[0maccess_token\u001b[0m \u001b[1;33m=\u001b[0m \u001b[0mself\u001b[0m\u001b[1;33m.\u001b[0m\u001b[0m_request_access_token\u001b[0m\u001b[1;33m(\u001b[0m\u001b[1;33m)\u001b[0m\u001b[1;33m\u001b[0m\u001b[0m\n\u001b[0m\u001b[0;32m     55\u001b[0m         \u001b[1;31m# Use the token for the next auth server requests.\u001b[0m\u001b[1;33m\u001b[0m\u001b[1;33m\u001b[0m\u001b[0m\n\u001b[0;32m     56\u001b[0m         \u001b[0mself\u001b[0m\u001b[1;33m.\u001b[0m\u001b[0mclient_auth\u001b[0m\u001b[1;33m.\u001b[0m\u001b[0msession\u001b[0m\u001b[1;33m.\u001b[0m\u001b[0maccess_token\u001b[0m \u001b[1;33m=\u001b[0m \u001b[0maccess_token\u001b[0m\u001b[1;33m\u001b[0m\u001b[0m\n",
      "\u001b[1;32m~\\Anaconda3\\lib\\site-packages\\qiskit\\providers\\ibmq\\api\\clients\\auth.py\u001b[0m in \u001b[0;36m_request_access_token\u001b[1;34m(self)\u001b[0m\n\u001b[0;32m     88\u001b[0m                         \u001b[1;32mif\u001b[0m \u001b[0merror_code\u001b[0m \u001b[1;33m==\u001b[0m \u001b[1;34m'ACCEPT_LICENSE_REQUIRED'\u001b[0m\u001b[1;33m:\u001b[0m\u001b[1;33m\u001b[0m\u001b[0m\n\u001b[0;32m     89\u001b[0m                             \u001b[0mmessage\u001b[0m \u001b[1;33m=\u001b[0m \u001b[0merror_response\u001b[0m\u001b[1;33m.\u001b[0m\u001b[0mjson\u001b[0m\u001b[1;33m(\u001b[0m\u001b[1;33m)\u001b[0m\u001b[1;33m[\u001b[0m\u001b[1;34m'error'\u001b[0m\u001b[1;33m]\u001b[0m\u001b[1;33m[\u001b[0m\u001b[1;34m'message'\u001b[0m\u001b[1;33m]\u001b[0m\u001b[1;33m\u001b[0m\u001b[0m\n\u001b[1;32m---> 90\u001b[1;33m                             \u001b[1;32mraise\u001b[0m \u001b[0mAuthenticationLicenseError\u001b[0m\u001b[1;33m(\u001b[0m\u001b[0mmessage\u001b[0m\u001b[1;33m)\u001b[0m\u001b[1;33m\u001b[0m\u001b[0m\n\u001b[0m\u001b[0;32m     91\u001b[0m                     \u001b[1;32mexcept\u001b[0m \u001b[1;33m(\u001b[0m\u001b[0mValueError\u001b[0m\u001b[1;33m,\u001b[0m \u001b[0mKeyError\u001b[0m\u001b[1;33m)\u001b[0m\u001b[1;33m:\u001b[0m\u001b[1;33m\u001b[0m\u001b[0m\n\u001b[0;32m     92\u001b[0m                         \u001b[1;31m# the response did not contain the expected json.\u001b[0m\u001b[1;33m\u001b[0m\u001b[1;33m\u001b[0m\u001b[0m\n",
      "\u001b[1;31mAuthenticationLicenseError\u001b[0m: 'License required. You need to accept the License.'"
     ]
    }
   ],
   "source": [
    "from qiskit.providers.aer import noise, QasmSimulator, StatevectorSimulator, UnitarySimulator\n",
    "from qiskit.providers.aer.noise import NoiseModel\n",
    "\n",
    "\n",
    "# Loading your IBM Q account(s)\n",
    "TOKEN ='32df0ea3fc138c8c6122a5e8def5d1a77b954f7d8d463265a1c788100803c5be93d42bfca4b7ce270497c7df1b6004e46493e16e0cf916563f72d06671cc837b'\n",
    "IBMQ.save_account(TOKEN)\n",
    "IBMQ.load_account() # Load account from disk\n",
    "providers = IBMQ.providers()\n",
    "provider = IBMQ.get_provider(hub ='ibm-q')\n",
    "print(provider)\n",
    "print(provider.backends())\n",
    "backend = provider.get_backend('ibmq_london')\n",
    "\n"
   ]
  },
  {
   "cell_type": "code",
   "execution_count": 3,
   "metadata": {},
   "outputs": [],
   "source": [
    "def state_creation_circuit(index,qubits):\n",
    "    if index == 1:\n",
    "        state_create=QuantumCircuit(qubits,qubits)\n",
    "    elif index ==2:\n",
    "        state_create=QuantumCircuit(qubits,qubits)\n",
    "        state_create.x(0)\n",
    "    elif index == 3:\n",
    "        state_create=QuantumCircuit(qubits,qubits)\n",
    "        state_create.x(qubits-1)\n",
    "        state_create.x(0)\n",
    "    elif index == 4:\n",
    "        state_create=QuantumCircuit(qubits,qubits)\n",
    "        for i in range(qubits):\n",
    "            state_create.x(i)\n",
    "    return state_create\n",
    "\n",
    "countdown={}\n",
    "noisycounts={}"
   ]
  },
  {
   "cell_type": "code",
   "execution_count": 14,
   "metadata": {},
   "outputs": [
    {
     "data": {
      "text/html": [
       "<pre style=\"word-wrap: normal;white-space: pre;background: #fff0;line-height: 1.1;font-family: &quot;Courier New&quot;,Courier,monospace\">        ┌────────────┐     ┌──────────┐┌───┐┌───────────┐┌───┐          ┌─┐   »\n",
       "q_0: |0>┤ Ry(-1.231) ├──■──┤ Ry(pi/4) ├┤ X ├┤ Ry(-pi/4) ├┤ X ├──■───────┤M├───»\n",
       "        └───┬───┬────┘┌─┴─┐└──────────┘└─┬─┘└───┬───┬───┘└───┘  │       └╥┘┌─┐»\n",
       "q_1: |0>────┤ X ├─────┤ X ├──────────────■──────┤ X ├───────────┼────■───╫─┤M├»\n",
       "            ├───┤     └───┘                     └───┘         ┌─┴─┐┌─┴─┐ ║ └╥┘»\n",
       "q_2: |0>────┤ X ├─────────────────────────────────────────────┤ X ├┤ X ├─╫──╫─»\n",
       "            └───┘                                             └───┘└───┘ ║  ║ »\n",
       " c_0: 0 ═════════════════════════════════════════════════════════════════╩══╬═»\n",
       "                                                                            ║ »\n",
       " c_1: 0 ════════════════════════════════════════════════════════════════════╩═»\n",
       "                                                                              »\n",
       " c_2: 0 ══════════════════════════════════════════════════════════════════════»\n",
       "                                                                              »\n",
       "«        \n",
       "«q_0: ───\n",
       "«        \n",
       "«q_1: ───\n",
       "«     ┌─┐\n",
       "«q_2: ┤M├\n",
       "«     └╥┘\n",
       "«c_0: ═╬═\n",
       "«      ║ \n",
       "«c_1: ═╬═\n",
       "«      ║ \n",
       "«c_2: ═╩═\n",
       "«        </pre>"
      ],
      "text/plain": [
       "        ┌────────────┐     ┌──────────┐┌───┐┌───────────┐┌───┐          ┌─┐   »\n",
       "q_0: |0>┤ Ry(-1.231) ├──■──┤ Ry(pi/4) ├┤ X ├┤ Ry(-pi/4) ├┤ X ├──■───────┤M├───»\n",
       "        └───┬───┬────┘┌─┴─┐└──────────┘└─┬─┘└───┬───┬───┘└───┘  │       └╥┘┌─┐»\n",
       "q_1: |0>────┤ X ├─────┤ X ├──────────────■──────┤ X ├───────────┼────■───╫─┤M├»\n",
       "            ├───┤     └───┘                     └───┘         ┌─┴─┐┌─┴─┐ ║ └╥┘»\n",
       "q_2: |0>────┤ X ├─────────────────────────────────────────────┤ X ├┤ X ├─╫──╫─»\n",
       "            └───┘                                             └───┘└───┘ ║  ║ »\n",
       " c_0: 0 ═════════════════════════════════════════════════════════════════╩══╬═»\n",
       "                                                                            ║ »\n",
       " c_1: 0 ════════════════════════════════════════════════════════════════════╩═»\n",
       "                                                                              »\n",
       " c_2: 0 ══════════════════════════════════════════════════════════════════════»\n",
       "                                                                              »\n",
       "«        \n",
       "«q_0: ───\n",
       "«        \n",
       "«q_1: ───\n",
       "«     ┌─┐\n",
       "«q_2: ┤M├\n",
       "«     └╥┘\n",
       "«c_0: ═╬═\n",
       "«      ║ \n",
       "«c_1: ═╬═\n",
       "«      ║ \n",
       "«c_2: ═╩═\n",
       "«        "
      ]
     },
     "execution_count": 14,
     "metadata": {},
     "output_type": "execute_result"
    }
   ],
   "source": [
    "#w3 circuit (1 of 4)\n",
    "w3=state_creation_circuit(1,3)\n",
    "w3.ry(-1.23096,0)\n",
    "w3.x(1)\n",
    "w3.x(2)\n",
    "w3.cx(0,1)\n",
    "w3.ry(np.pi/4,0)\n",
    "w3.cx(1,0)\n",
    "w3.ry(-1*np.pi/4,0)\n",
    "w3.x(0)\n",
    "w3.x(1)\n",
    "w3.cx(0,2)\n",
    "w3.cx(1,2)\n",
    "w3.measure(0,0)\n",
    "w3.measure(1,1)\n",
    "w3.measure(2,2)\n",
    "w3.draw()"
   ]
  },
  {
   "cell_type": "code",
   "execution_count": 6,
   "metadata": {},
   "outputs": [
    {
     "data": {
      "image/png": "[encoded data removed]",
      "text/plain": [
       "<Figure size 504x360 with 1 Axes>"
      ]
     },
     "execution_count": 6,
     "metadata": {},
     "output_type": "execute_result"
    }
   ],
   "source": [
    "backend = Aer.get_backend('qasm_simulator')\n",
    "result = execute(w3,backend,shots=10000).result()\n",
    "counts = result.get_counts()\n",
    "countdown[\"V1\"]=counts\n",
    "plot_histogram(counts)\n",
    "#returns natively 001, 100, and 010 at about 33% each"
   ]
  },
  {
   "cell_type": "code",
   "execution_count": 8,
   "metadata": {},
   "outputs": [
    {
     "data": {
      "text/html": [
       "<pre style=\"word-wrap: normal;white-space: pre;background: #fff0;line-height: 1.1;font-family: &quot;Courier New&quot;,Courier,monospace\">        ┌───┐┌────────────┐     ┌──────────┐┌───┐┌───────────┐┌───┐          »\n",
       "q_0: |0>┤ X ├┤ Ry(-1.231) ├──■──┤ Ry(pi/4) ├┤ X ├┤ Ry(-pi/4) ├┤ X ├──■───────»\n",
       "        ├───┤└────────────┘┌─┴─┐└──────────┘└─┬─┘└───┬───┬───┘└───┘  │       »\n",
       "q_1: |0>┤ X ├──────────────┤ X ├──────────────■──────┤ X ├───────────┼────■──»\n",
       "        ├───┤              └───┘                     └───┘         ┌─┴─┐┌─┴─┐»\n",
       "q_2: |0>┤ X ├──────────────────────────────────────────────────────┤ X ├┤ X ├»\n",
       "        └───┘                                                      └───┘└───┘»\n",
       " c_0: 0 ═════════════════════════════════════════════════════════════════════»\n",
       "                                                                             »\n",
       " c_1: 0 ═════════════════════════════════════════════════════════════════════»\n",
       "                                                                             »\n",
       " c_2: 0 ═════════════════════════════════════════════════════════════════════»\n",
       "                                                                             »\n",
       "«     ┌─┐      \n",
       "«q_0: ┤M├──────\n",
       "«     └╥┘┌─┐   \n",
       "«q_1: ─╫─┤M├───\n",
       "«      ║ └╥┘┌─┐\n",
       "«q_2: ─╫──╫─┤M├\n",
       "«      ║  ║ └╥┘\n",
       "«c_0: ═╩══╬══╬═\n",
       "«         ║  ║ \n",
       "«c_1: ════╩══╬═\n",
       "«            ║ \n",
       "«c_2: ═══════╩═\n",
       "«              </pre>"
      ],
      "text/plain": [
       "        ┌───┐┌────────────┐     ┌──────────┐┌───┐┌───────────┐┌───┐          »\n",
       "q_0: |0>┤ X ├┤ Ry(-1.231) ├──■──┤ Ry(pi/4) ├┤ X ├┤ Ry(-pi/4) ├┤ X ├──■───────»\n",
       "        ├───┤└────────────┘┌─┴─┐└──────────┘└─┬─┘└───┬───┬───┘└───┘  │       »\n",
       "q_1: |0>┤ X ├──────────────┤ X ├──────────────■──────┤ X ├───────────┼────■──»\n",
       "        ├───┤              └───┘                     └───┘         ┌─┴─┐┌─┴─┐»\n",
       "q_2: |0>┤ X ├──────────────────────────────────────────────────────┤ X ├┤ X ├»\n",
       "        └───┘                                                      └───┘└───┘»\n",
       " c_0: 0 ═════════════════════════════════════════════════════════════════════»\n",
       "                                                                             »\n",
       " c_1: 0 ═════════════════════════════════════════════════════════════════════»\n",
       "                                                                             »\n",
       " c_2: 0 ═════════════════════════════════════════════════════════════════════»\n",
       "                                                                             »\n",
       "«     ┌─┐      \n",
       "«q_0: ┤M├──────\n",
       "«     └╥┘┌─┐   \n",
       "«q_1: ─╫─┤M├───\n",
       "«      ║ └╥┘┌─┐\n",
       "«q_2: ─╫──╫─┤M├\n",
       "«      ║  ║ └╥┘\n",
       "«c_0: ═╩══╬══╬═\n",
       "«         ║  ║ \n",
       "«c_1: ════╩══╬═\n",
       "«            ║ \n",
       "«c_2: ═══════╩═\n",
       "«              "
      ]
     },
     "execution_count": 8,
     "metadata": {},
     "output_type": "execute_result"
    }
   ],
   "source": [
    "#w circuit (2 of 4)\n",
    "w32=state_creation_circuit(2,3)\n",
    "w32.ry(-1.23096,0)\n",
    "w32.x(1)\n",
    "w32.x(2)\n",
    "w32.cx(0,1)\n",
    "w32.ry(np.pi/4,0)\n",
    "w32.cx(1,0)\n",
    "w32.ry(-1*np.pi/4,0)\n",
    "w32.x(0)\n",
    "w32.x(1)\n",
    "w32.cx(0,2)\n",
    "w32.cx(1,2)\n",
    "w32.measure(0,0)\n",
    "w32.measure(1,1)\n",
    "w32.measure(2,2)\n",
    "w32.draw()"
   ]
  },
  {
   "cell_type": "code",
   "execution_count": 11,
   "metadata": {},
   "outputs": [
    {
     "data": {
      "image/png": "[encoded data removed]",
      "text/plain": [
       "<Figure size 504x360 with 1 Axes>"
      ]
     },
     "execution_count": 11,
     "metadata": {},
     "output_type": "execute_result"
    }
   ],
   "source": [
    "backend = Aer.get_backend('qasm_simulator')\n",
    "result = execute(w32,backend,shots=10000).result()\n",
    "counts = result.get_counts()\n",
    "countdown[\"V2\"]=counts\n",
    "plot_histogram(counts)\n",
    "#natively returns 001 and 100 at about 16% (about 1/6th each) and 010 at 66%"
   ]
  },
  {
   "cell_type": "code",
   "execution_count": 15,
   "metadata": {},
   "outputs": [
    {
     "data": {
      "text/html": [
       "<pre style=\"word-wrap: normal;white-space: pre;background: #fff0;line-height: 1.1;font-family: &quot;Courier New&quot;,Courier,monospace\">        ┌───┐┌────────────┐     ┌──────────┐┌───┐┌───────────┐┌───┐          »\n",
       "q_0: |0>┤ X ├┤ Ry(-1.231) ├──■──┤ Ry(pi/4) ├┤ X ├┤ Ry(-pi/4) ├┤ X ├──■───────»\n",
       "        ├───┤└────────────┘┌─┴─┐└──────────┘└─┬─┘└───┬───┬───┘└───┘  │       »\n",
       "q_1: |0>┤ X ├──────────────┤ X ├──────────────■──────┤ X ├───────────┼────■──»\n",
       "        ├───┤    ┌───┐     └───┘                     └───┘         ┌─┴─┐┌─┴─┐»\n",
       "q_2: |0>┤ X ├────┤ X ├─────────────────────────────────────────────┤ X ├┤ X ├»\n",
       "        └───┘    └───┘                                             └───┘└───┘»\n",
       " c_0: 0 ═════════════════════════════════════════════════════════════════════»\n",
       "                                                                             »\n",
       " c_1: 0 ═════════════════════════════════════════════════════════════════════»\n",
       "                                                                             »\n",
       " c_2: 0 ═════════════════════════════════════════════════════════════════════»\n",
       "                                                                             »\n",
       "«     ┌─┐      \n",
       "«q_0: ┤M├──────\n",
       "«     └╥┘┌─┐   \n",
       "«q_1: ─╫─┤M├───\n",
       "«      ║ └╥┘┌─┐\n",
       "«q_2: ─╫──╫─┤M├\n",
       "«      ║  ║ └╥┘\n",
       "«c_0: ═╩══╬══╬═\n",
       "«         ║  ║ \n",
       "«c_1: ════╩══╬═\n",
       "«            ║ \n",
       "«c_2: ═══════╩═\n",
       "«              </pre>"
      ],
      "text/plain": [
       "        ┌───┐┌────────────┐     ┌──────────┐┌───┐┌───────────┐┌───┐          »\n",
       "q_0: |0>┤ X ├┤ Ry(-1.231) ├──■──┤ Ry(pi/4) ├┤ X ├┤ Ry(-pi/4) ├┤ X ├──■───────»\n",
       "        ├───┤└────────────┘┌─┴─┐└──────────┘└─┬─┘└───┬───┬───┘└───┘  │       »\n",
       "q_1: |0>┤ X ├──────────────┤ X ├──────────────■──────┤ X ├───────────┼────■──»\n",
       "        ├───┤    ┌───┐     └───┘                     └───┘         ┌─┴─┐┌─┴─┐»\n",
       "q_2: |0>┤ X ├────┤ X ├─────────────────────────────────────────────┤ X ├┤ X ├»\n",
       "        └───┘    └───┘                                             └───┘└───┘»\n",
       " c_0: 0 ═════════════════════════════════════════════════════════════════════»\n",
       "                                                                             »\n",
       " c_1: 0 ═════════════════════════════════════════════════════════════════════»\n",
       "                                                                             »\n",
       " c_2: 0 ═════════════════════════════════════════════════════════════════════»\n",
       "                                                                             »\n",
       "«     ┌─┐      \n",
       "«q_0: ┤M├──────\n",
       "«     └╥┘┌─┐   \n",
       "«q_1: ─╫─┤M├───\n",
       "«      ║ └╥┘┌─┐\n",
       "«q_2: ─╫──╫─┤M├\n",
       "«      ║  ║ └╥┘\n",
       "«c_0: ═╩══╬══╬═\n",
       "«         ║  ║ \n",
       "«c_1: ════╩══╬═\n",
       "«            ║ \n",
       "«c_2: ═══════╩═\n",
       "«              "
      ]
     },
     "execution_count": 15,
     "metadata": {},
     "output_type": "execute_result"
    }
   ],
   "source": [
    "#w circuit (3 of 4)\n",
    "w33=state_creation_circuit(3,3)\n",
    "w33.ry(-1.23096,0)\n",
    "w33.x(1)\n",
    "w33.x(2)\n",
    "w33.cx(0,1)\n",
    "w33.ry(np.pi/4,0)\n",
    "w33.cx(1,0)\n",
    "w33.ry(-1*np.pi/4,0)\n",
    "w33.x(0)\n",
    "w33.x(1)\n",
    "w33.cx(0,2)\n",
    "w33.cx(1,2)\n",
    "w33.measure(0,0)\n",
    "w33.measure(1,1)\n",
    "w33.measure(2,2)\n",
    "w33.draw()"
   ]
  },
  {
   "cell_type": "code",
   "execution_count": 34,
   "metadata": {},
   "outputs": [
    {
     "data": {
      "image/png": "[encoded data removed]",
      "text/plain": [
       "<Figure size 504x360 with 1 Axes>"
      ]
     },
     "execution_count": 34,
     "metadata": {},
     "output_type": "execute_result"
    }
   ],
   "source": [
    "backend = Aer.get_backend('qasm_simulator')\n",
    "result = execute(w33,backend,shots=10000).result()\n",
    "counts = result.get_counts()\n",
    "countdown[\"V3\"]=counts\n",
    "plot_histogram(counts)\n",
    "#returns natively 000, 101 at about 16% each and 110 at 66%"
   ]
  },
  {
   "cell_type": "code",
   "execution_count": 17,
   "metadata": {},
   "outputs": [
    {
     "data": {
      "text/html": [
       "<pre style=\"word-wrap: normal;white-space: pre;background: #fff0;line-height: 1.1;font-family: &quot;Courier New&quot;,Courier,monospace\">        ┌───┐┌────────────┐     ┌──────────┐┌───┐┌───────────┐┌───┐          »\n",
       "q_0: |0>┤ X ├┤ Ry(-1.231) ├──■──┤ Ry(pi/4) ├┤ X ├┤ Ry(-pi/4) ├┤ X ├──■───────»\n",
       "        ├───┤└───┬───┬────┘┌─┴─┐└──────────┘└─┬─┘└───┬───┬───┘└───┘  │       »\n",
       "q_1: |0>┤ X ├────┤ X ├─────┤ X ├──────────────■──────┤ X ├───────────┼────■──»\n",
       "        ├───┤    ├───┤     └───┘                     └───┘         ┌─┴─┐┌─┴─┐»\n",
       "q_2: |0>┤ X ├────┤ X ├─────────────────────────────────────────────┤ X ├┤ X ├»\n",
       "        └───┘    └───┘                                             └───┘└───┘»\n",
       " c_0: 0 ═════════════════════════════════════════════════════════════════════»\n",
       "                                                                             »\n",
       " c_1: 0 ═════════════════════════════════════════════════════════════════════»\n",
       "                                                                             »\n",
       " c_2: 0 ═════════════════════════════════════════════════════════════════════»\n",
       "                                                                             »\n",
       "«     ┌─┐      \n",
       "«q_0: ┤M├──────\n",
       "«     └╥┘┌─┐   \n",
       "«q_1: ─╫─┤M├───\n",
       "«      ║ └╥┘┌─┐\n",
       "«q_2: ─╫──╫─┤M├\n",
       "«      ║  ║ └╥┘\n",
       "«c_0: ═╩══╬══╬═\n",
       "«         ║  ║ \n",
       "«c_1: ════╩══╬═\n",
       "«            ║ \n",
       "«c_2: ═══════╩═\n",
       "«              </pre>"
      ],
      "text/plain": [
       "        ┌───┐┌────────────┐     ┌──────────┐┌───┐┌───────────┐┌───┐          »\n",
       "q_0: |0>┤ X ├┤ Ry(-1.231) ├──■──┤ Ry(pi/4) ├┤ X ├┤ Ry(-pi/4) ├┤ X ├──■───────»\n",
       "        ├───┤└───┬───┬────┘┌─┴─┐└──────────┘└─┬─┘└───┬───┬───┘└───┘  │       »\n",
       "q_1: |0>┤ X ├────┤ X ├─────┤ X ├──────────────■──────┤ X ├───────────┼────■──»\n",
       "        ├───┤    ├───┤     └───┘                     └───┘         ┌─┴─┐┌─┴─┐»\n",
       "q_2: |0>┤ X ├────┤ X ├─────────────────────────────────────────────┤ X ├┤ X ├»\n",
       "        └───┘    └───┘                                             └───┘└───┘»\n",
       " c_0: 0 ═════════════════════════════════════════════════════════════════════»\n",
       "                                                                             »\n",
       " c_1: 0 ═════════════════════════════════════════════════════════════════════»\n",
       "                                                                             »\n",
       " c_2: 0 ═════════════════════════════════════════════════════════════════════»\n",
       "                                                                             »\n",
       "«     ┌─┐      \n",
       "«q_0: ┤M├──────\n",
       "«     └╥┘┌─┐   \n",
       "«q_1: ─╫─┤M├───\n",
       "«      ║ └╥┘┌─┐\n",
       "«q_2: ─╫──╫─┤M├\n",
       "«      ║  ║ └╥┘\n",
       "«c_0: ═╩══╬══╬═\n",
       "«         ║  ║ \n",
       "«c_1: ════╩══╬═\n",
       "«            ║ \n",
       "«c_2: ═══════╩═\n",
       "«              "
      ]
     },
     "execution_count": 17,
     "metadata": {},
     "output_type": "execute_result"
    }
   ],
   "source": [
    "#w34 circuit (4 of 4)\n",
    "w34=state_creation_circuit(4,3)\n",
    "w34.ry(-1.23096,0)\n",
    "w34.x(1)\n",
    "w34.x(2)\n",
    "w34.cx(0,1)\n",
    "w34.ry(np.pi/4,0)\n",
    "w34.cx(1,0)\n",
    "w34.ry(-1*np.pi/4,0)\n",
    "w34.x(0)\n",
    "w34.x(1)\n",
    "w34.cx(0,2)\n",
    "w34.cx(1,2)\n",
    "w34.measure(0,0)\n",
    "w34.measure(1,1)\n",
    "w34.measure(2,2)\n",
    "w34.draw()"
   ]
  },
  {
   "cell_type": "code",
   "execution_count": 18,
   "metadata": {},
   "outputs": [
    {
     "data": {
      "image/png": "[encoded data removed]",
      "text/plain": [
       "<Figure size 504x360 with 1 Axes>"
      ]
     },
     "execution_count": 18,
     "metadata": {},
     "output_type": "execute_result"
    }
   ],
   "source": [
    "backend = Aer.get_backend('qasm_simulator')\n",
    "result = execute(w34,backend,shots=10000).result()\n",
    "counts = result.get_counts()\n",
    "countdown[\"V4\"]=counts\n",
    "plot_histogram(counts)\n",
    "#print(counts[\"0000\"])\n",
    "#produces states 000, 011, 101 all at 33%"
   ]
  },
  {
   "cell_type": "code",
   "execution_count": 19,
   "metadata": {},
   "outputs": [],
   "source": [
    "#This function creates a noise model to apply to a circuit \n",
    "# Returns- the amount of counts for each state with noise ML: How does this work??? \n",
    "def applyNoise(qc):\n",
    "    gate_lengths = [\n",
    "    ('u1', None, 0), ('u2', None, 100), ('u3', None, 200),\n",
    "    ('cx', [1, 0], 678), ('cx', [1, 2], 547), ('cx', [2, 3], 721),\n",
    "    ('cx', [4, 3], 733), ('cx', [4, 10], 721), ('cx', [5, 4], 800),\n",
    "    ('cx', [5, 6], 800), ('cx', [5, 9], 895), ('cx', [6, 8], 895),\n",
    "    ('cx', [7, 8], 640), ('cx', [9, 8], 895), ('cx', [9, 10], 800),\n",
    "    ('cx', [11, 10], 721), ('cx', [11, 3], 634), ('cx', [12, 2], 773),\n",
    "    ('cx', [13, 1], 2286), ('cx', [13, 12], 1504), ('cx', [], 800)\n",
    "   ]#what are the gate lengths needed for? In units of ns\n",
    "    noise_model = NoiseModel.from_backend(properties, gate_lengths=gate_lengths)\n",
    "    #noise_model = noise.device.basic_device_noise_model(properties, gate_lengths=gate_lengths)\n",
    "    #print(noise_model)\n",
    "    basis_gates = noise_model.basis_gates\n",
    "    #simulator = Aer.get_backend('qasm_simulator')\n",
    "    result_noise = execute(qc, backend_sim, shots = 10000,\n",
    "                          noise_model = noise_model,\n",
    "                          coupling_map = coupling_map,\n",
    "                          basis_gates = basis_gates).result()\n",
    "    counts_noise = result_noise.get_counts(qc)\n",
    "    return counts_noise"
   ]
  },
  {
   "cell_type": "code",
   "execution_count": 42,
   "metadata": {},
   "outputs": [],
   "source": [
    "#left off here need to change next\n",
    "def fidelity(total):\n",
    "    temp=countdown[\"V1\"]\n",
    "    value1=(np.absolute(temp[\"001\"]-(1/3)*total)+np.absolute(temp[\"100\"]-(1/3)*total)+np.absolute(temp[\"010\"]-(1/3)*total))/total\n",
    "    value1=1-value1\n",
    "    temp=countdown[\"V2\"]\n",
    "    value2=(np.absolute(temp[\"001\"]-(1/6)*total)+np.absolute(temp[\"100\"]-(1/6)*total)+np.absolute(temp[\"010\"]-(2/3)*total))/total\n",
    "    value2=1-value2\n",
    "    temp=countdown[\"V3\"]\n",
    "    value3=(np.absolute(temp[\"000\"]-(1/6)*total)+np.absolute(temp[\"110\"]-(2/3)*total)+np.absolute(temp[\"101\"]-(1/6)*total))/total\n",
    "    value3=1-value3\n",
    "    temp=countdown[\"V4\"]\n",
    "    value4=(np.absolute(temp[\"000\"]-(1/3)*total)+np.absolute(temp[\"011\"]-(1/3)*total)+np.absolute(temp[\"101\"]-(1/3)*total))/total\n",
    "    value4=1-value4\n",
    "    avg=(value1+value2+value3+value4)/4\n",
    "    print(avg)"
   ]
  },
  {
   "cell_type": "code",
   "execution_count": 41,
   "metadata": {},
   "outputs": [
    {
     "name": "stdout",
     "output_type": "stream",
     "text": [
      "0010\n",
      "0001\n",
      "0100\n"
     ]
    }
   ],
   "source": [
    "temp2 = countdown[\"V3\"]\n",
    "for i in temp2:\n",
    "    print(i)"
   ]
  },
  {
   "cell_type": "code",
   "execution_count": 38,
   "metadata": {},
   "outputs": [
    {
     "name": "stdout",
     "output_type": "stream",
     "text": [
      "0.9921333333333333\n"
     ]
    }
   ],
   "source": [
    "fidelity(10000)"
   ]
  },
  {
   "cell_type": "code",
   "execution_count": 39,
   "metadata": {},
   "outputs": [],
   "source": [
    "##Backends options\n",
    "\n",
    "#takes as argument a circuit, a choice of backend (numbered), and a device name (str)\n",
    "#if choice ==1, device name is irrelevant\n",
    "def backend_choice(qc,choice,device_name):\n",
    "    if choice == 1:\n",
    "        ##simulator\n",
    "        backend = Aer.get_backend('qasm_simulator')\n",
    "        result = execute(qc,backend,shots=10000).result()\n",
    "        counts = result.get_counts()\n",
    "        noise = 0\n",
    "    if choice == 2:\n",
    "        ##Using real machine as a backend\n",
    "        provider = IBMQ.get_provider(hub='ibm-q')\n",
    "        backend_sim = provider.get_backend(device_name)\n",
    "        properties = device.properties() #will be used to help generate a noise model to run on the simulator\n",
    "        coupling_map = device.configuration().coupling_map\n",
    "        result = execute(qc,backend,shots=10000).result()\n",
    "        counts = result.get_counts()\n",
    "        noise=applyNoise(qc)#returns noisy state counts data\n",
    "    if choice == 3:\n",
    "        ##Using real machines as noise model\n",
    "        provider = IBMQ.get_provider(hub = 'ibm-q') \n",
    "        device = provider.get_backend(device_name) \n",
    "        result = execute(qc, backend).result()\n",
    "        counts=result.get_counts()\n",
    "        noise=0\n",
    "    return counts,noise\n",
    " \n"
   ]
  },
  {
   "cell_type": "code",
   "execution_count": 43,
   "metadata": {},
   "outputs": [
    {
     "name": "stdout",
     "output_type": "stream",
     "text": [
      "fidelity:\n",
      "0.9823999999999999\n"
     ]
    }
   ],
   "source": [
    "##Get w3 circuit noise and fidelity\n",
    "\n",
    "for i in range(1,5):\n",
    "    text=\"V\"+str(i)\n",
    "    w3=0\n",
    "    w3=state_creation_circuit(i,3)\n",
    "    w3.ry(-1.23096,0)\n",
    "    w3.x(1)\n",
    "    w3.x(2)\n",
    "    w3.cx(0,1)\n",
    "    w3.ry(np.pi/4,0)\n",
    "    w3.cx(1,0)\n",
    "    w3.ry(-1*np.pi/4,0)\n",
    "    w3.x(0)\n",
    "    w3.x(1)\n",
    "    w3.cx(0,2)\n",
    "    w3.cx(1,2)\n",
    "    w3.measure(0,0)\n",
    "    w3.measure(1,1)\n",
    "    w3.measure(2,2)\n",
    "    (counts,noise)=backend_choice(w3,1,'ibmq_london')\n",
    "    #result = execute(repeater,backend,shots=10000).result()\n",
    "    #counts = result.get_counts()\n",
    "    countdown[text]=counts\n",
    "    noisycounts[text]=noise\n",
    "\n",
    "print(\"fidelity:\")\n",
    "fidelity(10000)"
   ]
  },
  {
   "cell_type": "code",
   "execution_count": null,
   "metadata": {},
   "outputs": [],
   "source": []
  }
 ],
 "metadata": {
  "kernelspec": {
   "display_name": "Python 3",
   "language": "python",
   "name": "python3"
  },
  "language_info": {
   "codemirror_mode": {
    "name": "ipython",
    "version": 3
   },
   "file_extension": ".py",
   "mimetype": "text/x-python",
   "name": "python",
   "nbconvert_exporter": "python",
   "pygments_lexer": "ipython3",
   "version": "3.7.0"
  }
 },
 "nbformat": 4,
 "nbformat_minor": 2
}
