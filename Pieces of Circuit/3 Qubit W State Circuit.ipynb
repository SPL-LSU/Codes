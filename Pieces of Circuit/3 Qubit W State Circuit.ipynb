{
 "cells": [
  {
   "cell_type": "code",
   "execution_count": 1,
   "metadata": {},
   "outputs": [],
   "source": [
    "from qiskit import *\n",
    "import numpy as np\n",
    "from qiskit.visualization import plot_bloch_multivector, plot_histogram"
   ]
  },
  {
   "cell_type": "code",
   "execution_count": 2,
   "metadata": {},
   "outputs": [],
   "source": [
    "def state_creation_circuit(index,qubits):\n",
    "    if index == 1:\n",
    "        state_create=QuantumCircuit(qubits)\n",
    "    elif index ==2:\n",
    "        state_create=QuantumCircuit(qubits)\n",
    "        state_create.x(0)\n",
    "    elif index == 3:\n",
    "        state_create=QuantumCircuit(qubits)\n",
    "        state_create.x(qubits)\n",
    "        state_create.x(0)\n",
    "    elif index == 4:\n",
    "        state_create=QuantumCircuit(qubits)\n",
    "        for i in range(qubits):\n",
    "            state_create.x(i)\n",
    "    return state_create"
   ]
  },
  {
   "cell_type": "code",
   "execution_count": 3,
   "metadata": {},
   "outputs": [
    {
     "data": {
      "text/html": [
       "<pre style=\"word-wrap: normal;white-space: pre;background: #fff0;line-height: 1.1;font-family: &quot;Courier New&quot;,Courier,monospace\">        ┌────────────┐     ┌──────────┐┌───┐┌───────────┐┌───┐          \n",
       "q_0: |0>┤ Ry(-1.231) ├──■──┤ Ry(pi/4) ├┤ X ├┤ Ry(-pi/4) ├┤ X ├──■───────\n",
       "        └───┬───┬────┘┌─┴─┐└──────────┘└─┬─┘└───┬───┬───┘└───┘  │       \n",
       "q_1: |0>────┤ X ├─────┤ X ├──────────────■──────┤ X ├───────────┼────■──\n",
       "            ├───┤     └───┘                     └───┘         ┌─┴─┐┌─┴─┐\n",
       "q_2: |0>────┤ X ├─────────────────────────────────────────────┤ X ├┤ X ├\n",
       "            └───┘                                             └───┘└───┘</pre>"
      ],
      "text/plain": [
       "        ┌────────────┐     ┌──────────┐┌───┐┌───────────┐┌───┐          \n",
       "q_0: |0>┤ Ry(-1.231) ├──■──┤ Ry(pi/4) ├┤ X ├┤ Ry(-pi/4) ├┤ X ├──■───────\n",
       "        └───┬───┬────┘┌─┴─┐└──────────┘└─┬─┘└───┬───┬───┘└───┘  │       \n",
       "q_1: |0>────┤ X ├─────┤ X ├──────────────■──────┤ X ├───────────┼────■──\n",
       "            ├───┤     └───┘                     └───┘         ┌─┴─┐┌─┴─┐\n",
       "q_2: |0>────┤ X ├─────────────────────────────────────────────┤ X ├┤ X ├\n",
       "            └───┘                                             └───┘└───┘"
      ]
     },
     "execution_count": 3,
     "metadata": {},
     "output_type": "execute_result"
    }
   ],
   "source": [
    "w3=state_creation_circuit(1,3)\n",
    "w3.ry(-1.23096,0)\n",
    "w3.x(1)\n",
    "w3.x(2)\n",
    "w3.cx(0,1)\n",
    "w3.ry(np.pi/4,0)\n",
    "w3.cx(1,0)\n",
    "w3.ry(-1*np.pi/4,0)\n",
    "w3.x(0)\n",
    "w3.x(1)\n",
    "w3.cx(0,2)\n",
    "w3.cx(1,2)\n",
    "w3.draw()"
   ]
  },
  {
   "cell_type": "code",
   "execution_count": 4,
   "metadata": {},
   "outputs": [
    {
     "data": {
      "image/png": "[encoded data removed]",
      "text/plain": [
       "<Figure size 504x360 with 1 Axes>"
      ]
     },
     "execution_count": 4,
     "metadata": {},
     "output_type": "execute_result"
    }
   ],
   "source": [
    "backend = Aer.get_backend('statevector_simulator')\n",
    "result = execute(w3,backend).result()\n",
    "counts = result.get_counts()\n",
    "plot_histogram(counts)"
   ]
  },
  {
   "cell_type": "code",
   "execution_count": null,
   "metadata": {},
   "outputs": [],
   "source": []
  }
 ],
 "metadata": {
  "kernelspec": {
   "display_name": "Python 3",
   "language": "python",
   "name": "python3"
  },
  "language_info": {
   "codemirror_mode": {
    "name": "ipython",
    "version": 3
   },
   "file_extension": ".py",
   "mimetype": "text/x-python",
   "name": "python",
   "nbconvert_exporter": "python",
   "pygments_lexer": "ipython3",
   "version": "3.7.0"
  }
 },
 "nbformat": 4,
 "nbformat_minor": 2
}
